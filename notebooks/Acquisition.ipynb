{
 "cells": [
  {
   "cell_type": "code",
   "execution_count": 13,
   "metadata": {},
   "outputs": [],
   "source": [
    "import requests\n",
    "from bs4 import BeautifulSoup\n",
    "import lxml.html as lh\n",
    "import pandas as pd\n",
    "from itertools import count"
   ]
  },
  {
   "cell_type": "markdown",
   "metadata": {},
   "source": [
    "## TripAdvisor"
   ]
  },
  {
   "cell_type": "code",
   "execution_count": 14,
   "metadata": {},
   "outputs": [
    {
     "ename": "ConnectionError",
     "evalue": "HTTPSConnectionPool(host='www.tripadvisor.com', port=443): Max retries exceeded with url: /Restaurants-g187514-Madrid.html (Caused by NewConnectionError('<urllib3.connection.HTTPSConnection object at 0x11c256050>: Failed to establish a new connection: [Errno 60] Operation timed out'))",
     "output_type": "error",
     "traceback": [
      "\u001b[0;31m---------------------------------------------------------------------------\u001b[0m",
      "\u001b[0;31mTimeoutError\u001b[0m                              Traceback (most recent call last)",
      "\u001b[0;32m~/miniconda3/envs/ironhack_env/lib/python3.7/site-packages/urllib3/connection.py\u001b[0m in \u001b[0;36m_new_conn\u001b[0;34m(self)\u001b[0m\n\u001b[1;32m    159\u001b[0m             conn = connection.create_connection(\n\u001b[0;32m--> 160\u001b[0;31m                 \u001b[0;34m(\u001b[0m\u001b[0mself\u001b[0m\u001b[0;34m.\u001b[0m\u001b[0m_dns_host\u001b[0m\u001b[0;34m,\u001b[0m \u001b[0mself\u001b[0m\u001b[0;34m.\u001b[0m\u001b[0mport\u001b[0m\u001b[0;34m)\u001b[0m\u001b[0;34m,\u001b[0m \u001b[0mself\u001b[0m\u001b[0;34m.\u001b[0m\u001b[0mtimeout\u001b[0m\u001b[0;34m,\u001b[0m \u001b[0;34m**\u001b[0m\u001b[0mextra_kw\u001b[0m\u001b[0;34m\u001b[0m\u001b[0;34m\u001b[0m\u001b[0m\n\u001b[0m\u001b[1;32m    161\u001b[0m             )\n",
      "\u001b[0;32m~/miniconda3/envs/ironhack_env/lib/python3.7/site-packages/urllib3/util/connection.py\u001b[0m in \u001b[0;36mcreate_connection\u001b[0;34m(address, timeout, source_address, socket_options)\u001b[0m\n\u001b[1;32m     83\u001b[0m     \u001b[0;32mif\u001b[0m \u001b[0merr\u001b[0m \u001b[0;32mis\u001b[0m \u001b[0;32mnot\u001b[0m \u001b[0;32mNone\u001b[0m\u001b[0;34m:\u001b[0m\u001b[0;34m\u001b[0m\u001b[0;34m\u001b[0m\u001b[0m\n\u001b[0;32m---> 84\u001b[0;31m         \u001b[0;32mraise\u001b[0m \u001b[0merr\u001b[0m\u001b[0;34m\u001b[0m\u001b[0;34m\u001b[0m\u001b[0m\n\u001b[0m\u001b[1;32m     85\u001b[0m \u001b[0;34m\u001b[0m\u001b[0m\n",
      "\u001b[0;32m~/miniconda3/envs/ironhack_env/lib/python3.7/site-packages/urllib3/util/connection.py\u001b[0m in \u001b[0;36mcreate_connection\u001b[0;34m(address, timeout, source_address, socket_options)\u001b[0m\n\u001b[1;32m     73\u001b[0m                 \u001b[0msock\u001b[0m\u001b[0;34m.\u001b[0m\u001b[0mbind\u001b[0m\u001b[0;34m(\u001b[0m\u001b[0msource_address\u001b[0m\u001b[0;34m)\u001b[0m\u001b[0;34m\u001b[0m\u001b[0;34m\u001b[0m\u001b[0m\n\u001b[0;32m---> 74\u001b[0;31m             \u001b[0msock\u001b[0m\u001b[0;34m.\u001b[0m\u001b[0mconnect\u001b[0m\u001b[0;34m(\u001b[0m\u001b[0msa\u001b[0m\u001b[0;34m)\u001b[0m\u001b[0;34m\u001b[0m\u001b[0;34m\u001b[0m\u001b[0m\n\u001b[0m\u001b[1;32m     75\u001b[0m             \u001b[0;32mreturn\u001b[0m \u001b[0msock\u001b[0m\u001b[0;34m\u001b[0m\u001b[0;34m\u001b[0m\u001b[0m\n",
      "\u001b[0;31mTimeoutError\u001b[0m: [Errno 60] Operation timed out",
      "\nDuring handling of the above exception, another exception occurred:\n",
      "\u001b[0;31mNewConnectionError\u001b[0m                        Traceback (most recent call last)",
      "\u001b[0;32m~/miniconda3/envs/ironhack_env/lib/python3.7/site-packages/urllib3/connectionpool.py\u001b[0m in \u001b[0;36murlopen\u001b[0;34m(self, method, url, body, headers, retries, redirect, assert_same_host, timeout, pool_timeout, release_conn, chunked, body_pos, **response_kw)\u001b[0m\n\u001b[1;32m    676\u001b[0m                 \u001b[0mheaders\u001b[0m\u001b[0;34m=\u001b[0m\u001b[0mheaders\u001b[0m\u001b[0;34m,\u001b[0m\u001b[0;34m\u001b[0m\u001b[0;34m\u001b[0m\u001b[0m\n\u001b[0;32m--> 677\u001b[0;31m                 \u001b[0mchunked\u001b[0m\u001b[0;34m=\u001b[0m\u001b[0mchunked\u001b[0m\u001b[0;34m,\u001b[0m\u001b[0;34m\u001b[0m\u001b[0;34m\u001b[0m\u001b[0m\n\u001b[0m\u001b[1;32m    678\u001b[0m             )\n",
      "\u001b[0;32m~/miniconda3/envs/ironhack_env/lib/python3.7/site-packages/urllib3/connectionpool.py\u001b[0m in \u001b[0;36m_make_request\u001b[0;34m(self, conn, method, url, timeout, chunked, **httplib_request_kw)\u001b[0m\n\u001b[1;32m    380\u001b[0m         \u001b[0;32mtry\u001b[0m\u001b[0;34m:\u001b[0m\u001b[0;34m\u001b[0m\u001b[0;34m\u001b[0m\u001b[0m\n\u001b[0;32m--> 381\u001b[0;31m             \u001b[0mself\u001b[0m\u001b[0;34m.\u001b[0m\u001b[0m_validate_conn\u001b[0m\u001b[0;34m(\u001b[0m\u001b[0mconn\u001b[0m\u001b[0;34m)\u001b[0m\u001b[0;34m\u001b[0m\u001b[0;34m\u001b[0m\u001b[0m\n\u001b[0m\u001b[1;32m    382\u001b[0m         \u001b[0;32mexcept\u001b[0m \u001b[0;34m(\u001b[0m\u001b[0mSocketTimeout\u001b[0m\u001b[0;34m,\u001b[0m \u001b[0mBaseSSLError\u001b[0m\u001b[0;34m)\u001b[0m \u001b[0;32mas\u001b[0m \u001b[0me\u001b[0m\u001b[0;34m:\u001b[0m\u001b[0;34m\u001b[0m\u001b[0;34m\u001b[0m\u001b[0m\n",
      "\u001b[0;32m~/miniconda3/envs/ironhack_env/lib/python3.7/site-packages/urllib3/connectionpool.py\u001b[0m in \u001b[0;36m_validate_conn\u001b[0;34m(self, conn)\u001b[0m\n\u001b[1;32m    975\u001b[0m         \u001b[0;32mif\u001b[0m \u001b[0;32mnot\u001b[0m \u001b[0mgetattr\u001b[0m\u001b[0;34m(\u001b[0m\u001b[0mconn\u001b[0m\u001b[0;34m,\u001b[0m \u001b[0;34m\"sock\"\u001b[0m\u001b[0;34m,\u001b[0m \u001b[0;32mNone\u001b[0m\u001b[0;34m)\u001b[0m\u001b[0;34m:\u001b[0m  \u001b[0;31m# AppEngine might not have  `.sock`\u001b[0m\u001b[0;34m\u001b[0m\u001b[0;34m\u001b[0m\u001b[0m\n\u001b[0;32m--> 976\u001b[0;31m             \u001b[0mconn\u001b[0m\u001b[0;34m.\u001b[0m\u001b[0mconnect\u001b[0m\u001b[0;34m(\u001b[0m\u001b[0;34m)\u001b[0m\u001b[0;34m\u001b[0m\u001b[0;34m\u001b[0m\u001b[0m\n\u001b[0m\u001b[1;32m    977\u001b[0m \u001b[0;34m\u001b[0m\u001b[0m\n",
      "\u001b[0;32m~/miniconda3/envs/ironhack_env/lib/python3.7/site-packages/urllib3/connection.py\u001b[0m in \u001b[0;36mconnect\u001b[0;34m(self)\u001b[0m\n\u001b[1;32m    307\u001b[0m         \u001b[0;31m# Add certificate verification\u001b[0m\u001b[0;34m\u001b[0m\u001b[0;34m\u001b[0m\u001b[0;34m\u001b[0m\u001b[0m\n\u001b[0;32m--> 308\u001b[0;31m         \u001b[0mconn\u001b[0m \u001b[0;34m=\u001b[0m \u001b[0mself\u001b[0m\u001b[0;34m.\u001b[0m\u001b[0m_new_conn\u001b[0m\u001b[0;34m(\u001b[0m\u001b[0;34m)\u001b[0m\u001b[0;34m\u001b[0m\u001b[0;34m\u001b[0m\u001b[0m\n\u001b[0m\u001b[1;32m    309\u001b[0m         \u001b[0mhostname\u001b[0m \u001b[0;34m=\u001b[0m \u001b[0mself\u001b[0m\u001b[0;34m.\u001b[0m\u001b[0mhost\u001b[0m\u001b[0;34m\u001b[0m\u001b[0;34m\u001b[0m\u001b[0m\n",
      "\u001b[0;32m~/miniconda3/envs/ironhack_env/lib/python3.7/site-packages/urllib3/connection.py\u001b[0m in \u001b[0;36m_new_conn\u001b[0;34m(self)\u001b[0m\n\u001b[1;32m    171\u001b[0m             raise NewConnectionError(\n\u001b[0;32m--> 172\u001b[0;31m                 \u001b[0mself\u001b[0m\u001b[0;34m,\u001b[0m \u001b[0;34m\"Failed to establish a new connection: %s\"\u001b[0m \u001b[0;34m%\u001b[0m \u001b[0me\u001b[0m\u001b[0;34m\u001b[0m\u001b[0;34m\u001b[0m\u001b[0m\n\u001b[0m\u001b[1;32m    173\u001b[0m             )\n",
      "\u001b[0;31mNewConnectionError\u001b[0m: <urllib3.connection.HTTPSConnection object at 0x11c256050>: Failed to establish a new connection: [Errno 60] Operation timed out",
      "\nDuring handling of the above exception, another exception occurred:\n",
      "\u001b[0;31mMaxRetryError\u001b[0m                             Traceback (most recent call last)",
      "\u001b[0;32m~/miniconda3/envs/ironhack_env/lib/python3.7/site-packages/requests/adapters.py\u001b[0m in \u001b[0;36msend\u001b[0;34m(self, request, stream, timeout, verify, cert, proxies)\u001b[0m\n\u001b[1;32m    448\u001b[0m                     \u001b[0mretries\u001b[0m\u001b[0;34m=\u001b[0m\u001b[0mself\u001b[0m\u001b[0;34m.\u001b[0m\u001b[0mmax_retries\u001b[0m\u001b[0;34m,\u001b[0m\u001b[0;34m\u001b[0m\u001b[0;34m\u001b[0m\u001b[0m\n\u001b[0;32m--> 449\u001b[0;31m                     \u001b[0mtimeout\u001b[0m\u001b[0;34m=\u001b[0m\u001b[0mtimeout\u001b[0m\u001b[0;34m\u001b[0m\u001b[0;34m\u001b[0m\u001b[0m\n\u001b[0m\u001b[1;32m    450\u001b[0m                 )\n",
      "\u001b[0;32m~/miniconda3/envs/ironhack_env/lib/python3.7/site-packages/urllib3/connectionpool.py\u001b[0m in \u001b[0;36murlopen\u001b[0;34m(self, method, url, body, headers, retries, redirect, assert_same_host, timeout, pool_timeout, release_conn, chunked, body_pos, **response_kw)\u001b[0m\n\u001b[1;32m    724\u001b[0m             retries = retries.increment(\n\u001b[0;32m--> 725\u001b[0;31m                 \u001b[0mmethod\u001b[0m\u001b[0;34m,\u001b[0m \u001b[0murl\u001b[0m\u001b[0;34m,\u001b[0m \u001b[0merror\u001b[0m\u001b[0;34m=\u001b[0m\u001b[0me\u001b[0m\u001b[0;34m,\u001b[0m \u001b[0m_pool\u001b[0m\u001b[0;34m=\u001b[0m\u001b[0mself\u001b[0m\u001b[0;34m,\u001b[0m \u001b[0m_stacktrace\u001b[0m\u001b[0;34m=\u001b[0m\u001b[0msys\u001b[0m\u001b[0;34m.\u001b[0m\u001b[0mexc_info\u001b[0m\u001b[0;34m(\u001b[0m\u001b[0;34m)\u001b[0m\u001b[0;34m[\u001b[0m\u001b[0;36m2\u001b[0m\u001b[0;34m]\u001b[0m\u001b[0;34m\u001b[0m\u001b[0;34m\u001b[0m\u001b[0m\n\u001b[0m\u001b[1;32m    726\u001b[0m             )\n",
      "\u001b[0;32m~/miniconda3/envs/ironhack_env/lib/python3.7/site-packages/urllib3/util/retry.py\u001b[0m in \u001b[0;36mincrement\u001b[0;34m(self, method, url, response, error, _pool, _stacktrace)\u001b[0m\n\u001b[1;32m    438\u001b[0m         \u001b[0;32mif\u001b[0m \u001b[0mnew_retry\u001b[0m\u001b[0;34m.\u001b[0m\u001b[0mis_exhausted\u001b[0m\u001b[0;34m(\u001b[0m\u001b[0;34m)\u001b[0m\u001b[0;34m:\u001b[0m\u001b[0;34m\u001b[0m\u001b[0;34m\u001b[0m\u001b[0m\n\u001b[0;32m--> 439\u001b[0;31m             \u001b[0;32mraise\u001b[0m \u001b[0mMaxRetryError\u001b[0m\u001b[0;34m(\u001b[0m\u001b[0m_pool\u001b[0m\u001b[0;34m,\u001b[0m \u001b[0murl\u001b[0m\u001b[0;34m,\u001b[0m \u001b[0merror\u001b[0m \u001b[0;32mor\u001b[0m \u001b[0mResponseError\u001b[0m\u001b[0;34m(\u001b[0m\u001b[0mcause\u001b[0m\u001b[0;34m)\u001b[0m\u001b[0;34m)\u001b[0m\u001b[0;34m\u001b[0m\u001b[0;34m\u001b[0m\u001b[0m\n\u001b[0m\u001b[1;32m    440\u001b[0m \u001b[0;34m\u001b[0m\u001b[0m\n",
      "\u001b[0;31mMaxRetryError\u001b[0m: HTTPSConnectionPool(host='www.tripadvisor.com', port=443): Max retries exceeded with url: /Restaurants-g187514-Madrid.html (Caused by NewConnectionError('<urllib3.connection.HTTPSConnection object at 0x11c256050>: Failed to establish a new connection: [Errno 60] Operation timed out'))",
      "\nDuring handling of the above exception, another exception occurred:\n",
      "\u001b[0;31mConnectionError\u001b[0m                           Traceback (most recent call last)",
      "\u001b[0;32m<ipython-input-14-43a3c56e042a>\u001b[0m in \u001b[0;36m<module>\u001b[0;34m\u001b[0m\n\u001b[1;32m      1\u001b[0m \u001b[0;32mfor\u001b[0m \u001b[0mpage_number\u001b[0m \u001b[0;32min\u001b[0m \u001b[0mcount\u001b[0m\u001b[0;34m(\u001b[0m\u001b[0mstart\u001b[0m \u001b[0;34m=\u001b[0m \u001b[0;36m1\u001b[0m\u001b[0;34m)\u001b[0m\u001b[0;34m:\u001b[0m\u001b[0;34m\u001b[0m\u001b[0;34m\u001b[0m\u001b[0m\n\u001b[1;32m      2\u001b[0m         \u001b[0murl\u001b[0m \u001b[0;34m=\u001b[0m \u001b[0;34m'https://www.tripadvisor.com/Restaurants-g187514-Madrid.html'\u001b[0m\u001b[0;34m\u001b[0m\u001b[0;34m\u001b[0m\u001b[0m\n\u001b[0;32m----> 3\u001b[0;31m         \u001b[0mhtml\u001b[0m \u001b[0;34m=\u001b[0m \u001b[0mrequests\u001b[0m\u001b[0;34m.\u001b[0m\u001b[0mget\u001b[0m\u001b[0;34m(\u001b[0m\u001b[0murl\u001b[0m\u001b[0;34m)\u001b[0m\u001b[0;34m.\u001b[0m\u001b[0mcontent\u001b[0m\u001b[0;34m\u001b[0m\u001b[0;34m\u001b[0m\u001b[0m\n\u001b[0m\u001b[1;32m      4\u001b[0m         \u001b[0msoup\u001b[0m \u001b[0;34m=\u001b[0m \u001b[0mBeautifulSoup\u001b[0m\u001b[0;34m(\u001b[0m\u001b[0mhtml\u001b[0m\u001b[0;34m,\u001b[0m\u001b[0;34m\"lxml\"\u001b[0m\u001b[0;34m)\u001b[0m\u001b[0;34m\u001b[0m\u001b[0;34m\u001b[0m\u001b[0m\n\u001b[1;32m      5\u001b[0m         \u001b[0mtable\u001b[0m \u001b[0;34m=\u001b[0m \u001b[0msoup\u001b[0m\u001b[0;34m.\u001b[0m\u001b[0mfind_all\u001b[0m\u001b[0;34m(\u001b[0m\u001b[0;34m'div'\u001b[0m\u001b[0;34m,\u001b[0m \u001b[0;34m{\u001b[0m\u001b[0;34m'id'\u001b[0m \u001b[0;34m:\u001b[0m \u001b[0;34m'EATERY_SEARCH_RESULTS'\u001b[0m\u001b[0;34m}\u001b[0m\u001b[0;34m)\u001b[0m\u001b[0;34m[\u001b[0m\u001b[0;36m0\u001b[0m\u001b[0;34m]\u001b[0m\u001b[0;34m\u001b[0m\u001b[0;34m\u001b[0m\u001b[0m\n",
      "\u001b[0;32m~/miniconda3/envs/ironhack_env/lib/python3.7/site-packages/requests/api.py\u001b[0m in \u001b[0;36mget\u001b[0;34m(url, params, **kwargs)\u001b[0m\n\u001b[1;32m     74\u001b[0m \u001b[0;34m\u001b[0m\u001b[0m\n\u001b[1;32m     75\u001b[0m     \u001b[0mkwargs\u001b[0m\u001b[0;34m.\u001b[0m\u001b[0msetdefault\u001b[0m\u001b[0;34m(\u001b[0m\u001b[0;34m'allow_redirects'\u001b[0m\u001b[0;34m,\u001b[0m \u001b[0;32mTrue\u001b[0m\u001b[0;34m)\u001b[0m\u001b[0;34m\u001b[0m\u001b[0;34m\u001b[0m\u001b[0m\n\u001b[0;32m---> 76\u001b[0;31m     \u001b[0;32mreturn\u001b[0m \u001b[0mrequest\u001b[0m\u001b[0;34m(\u001b[0m\u001b[0;34m'get'\u001b[0m\u001b[0;34m,\u001b[0m \u001b[0murl\u001b[0m\u001b[0;34m,\u001b[0m \u001b[0mparams\u001b[0m\u001b[0;34m=\u001b[0m\u001b[0mparams\u001b[0m\u001b[0;34m,\u001b[0m \u001b[0;34m**\u001b[0m\u001b[0mkwargs\u001b[0m\u001b[0;34m)\u001b[0m\u001b[0;34m\u001b[0m\u001b[0;34m\u001b[0m\u001b[0m\n\u001b[0m\u001b[1;32m     77\u001b[0m \u001b[0;34m\u001b[0m\u001b[0m\n\u001b[1;32m     78\u001b[0m \u001b[0;34m\u001b[0m\u001b[0m\n",
      "\u001b[0;32m~/miniconda3/envs/ironhack_env/lib/python3.7/site-packages/requests/api.py\u001b[0m in \u001b[0;36mrequest\u001b[0;34m(method, url, **kwargs)\u001b[0m\n\u001b[1;32m     59\u001b[0m     \u001b[0;31m# cases, and look like a memory leak in others.\u001b[0m\u001b[0;34m\u001b[0m\u001b[0;34m\u001b[0m\u001b[0;34m\u001b[0m\u001b[0m\n\u001b[1;32m     60\u001b[0m     \u001b[0;32mwith\u001b[0m \u001b[0msessions\u001b[0m\u001b[0;34m.\u001b[0m\u001b[0mSession\u001b[0m\u001b[0;34m(\u001b[0m\u001b[0;34m)\u001b[0m \u001b[0;32mas\u001b[0m \u001b[0msession\u001b[0m\u001b[0;34m:\u001b[0m\u001b[0;34m\u001b[0m\u001b[0;34m\u001b[0m\u001b[0m\n\u001b[0;32m---> 61\u001b[0;31m         \u001b[0;32mreturn\u001b[0m \u001b[0msession\u001b[0m\u001b[0;34m.\u001b[0m\u001b[0mrequest\u001b[0m\u001b[0;34m(\u001b[0m\u001b[0mmethod\u001b[0m\u001b[0;34m=\u001b[0m\u001b[0mmethod\u001b[0m\u001b[0;34m,\u001b[0m \u001b[0murl\u001b[0m\u001b[0;34m=\u001b[0m\u001b[0murl\u001b[0m\u001b[0;34m,\u001b[0m \u001b[0;34m**\u001b[0m\u001b[0mkwargs\u001b[0m\u001b[0;34m)\u001b[0m\u001b[0;34m\u001b[0m\u001b[0;34m\u001b[0m\u001b[0m\n\u001b[0m\u001b[1;32m     62\u001b[0m \u001b[0;34m\u001b[0m\u001b[0m\n\u001b[1;32m     63\u001b[0m \u001b[0;34m\u001b[0m\u001b[0m\n",
      "\u001b[0;32m~/miniconda3/envs/ironhack_env/lib/python3.7/site-packages/requests/sessions.py\u001b[0m in \u001b[0;36mrequest\u001b[0;34m(self, method, url, params, data, headers, cookies, files, auth, timeout, allow_redirects, proxies, hooks, stream, verify, cert, json)\u001b[0m\n\u001b[1;32m    528\u001b[0m         }\n\u001b[1;32m    529\u001b[0m         \u001b[0msend_kwargs\u001b[0m\u001b[0;34m.\u001b[0m\u001b[0mupdate\u001b[0m\u001b[0;34m(\u001b[0m\u001b[0msettings\u001b[0m\u001b[0;34m)\u001b[0m\u001b[0;34m\u001b[0m\u001b[0;34m\u001b[0m\u001b[0m\n\u001b[0;32m--> 530\u001b[0;31m         \u001b[0mresp\u001b[0m \u001b[0;34m=\u001b[0m \u001b[0mself\u001b[0m\u001b[0;34m.\u001b[0m\u001b[0msend\u001b[0m\u001b[0;34m(\u001b[0m\u001b[0mprep\u001b[0m\u001b[0;34m,\u001b[0m \u001b[0;34m**\u001b[0m\u001b[0msend_kwargs\u001b[0m\u001b[0;34m)\u001b[0m\u001b[0;34m\u001b[0m\u001b[0;34m\u001b[0m\u001b[0m\n\u001b[0m\u001b[1;32m    531\u001b[0m \u001b[0;34m\u001b[0m\u001b[0m\n\u001b[1;32m    532\u001b[0m         \u001b[0;32mreturn\u001b[0m \u001b[0mresp\u001b[0m\u001b[0;34m\u001b[0m\u001b[0;34m\u001b[0m\u001b[0m\n",
      "\u001b[0;32m~/miniconda3/envs/ironhack_env/lib/python3.7/site-packages/requests/sessions.py\u001b[0m in \u001b[0;36msend\u001b[0;34m(self, request, **kwargs)\u001b[0m\n\u001b[1;32m    641\u001b[0m \u001b[0;34m\u001b[0m\u001b[0m\n\u001b[1;32m    642\u001b[0m         \u001b[0;31m# Send the request\u001b[0m\u001b[0;34m\u001b[0m\u001b[0;34m\u001b[0m\u001b[0;34m\u001b[0m\u001b[0m\n\u001b[0;32m--> 643\u001b[0;31m         \u001b[0mr\u001b[0m \u001b[0;34m=\u001b[0m \u001b[0madapter\u001b[0m\u001b[0;34m.\u001b[0m\u001b[0msend\u001b[0m\u001b[0;34m(\u001b[0m\u001b[0mrequest\u001b[0m\u001b[0;34m,\u001b[0m \u001b[0;34m**\u001b[0m\u001b[0mkwargs\u001b[0m\u001b[0;34m)\u001b[0m\u001b[0;34m\u001b[0m\u001b[0;34m\u001b[0m\u001b[0m\n\u001b[0m\u001b[1;32m    644\u001b[0m \u001b[0;34m\u001b[0m\u001b[0m\n\u001b[1;32m    645\u001b[0m         \u001b[0;31m# Total elapsed time of the request (approximately)\u001b[0m\u001b[0;34m\u001b[0m\u001b[0;34m\u001b[0m\u001b[0;34m\u001b[0m\u001b[0m\n",
      "\u001b[0;32m~/miniconda3/envs/ironhack_env/lib/python3.7/site-packages/requests/adapters.py\u001b[0m in \u001b[0;36msend\u001b[0;34m(self, request, stream, timeout, verify, cert, proxies)\u001b[0m\n\u001b[1;32m    514\u001b[0m                 \u001b[0;32mraise\u001b[0m \u001b[0mSSLError\u001b[0m\u001b[0;34m(\u001b[0m\u001b[0me\u001b[0m\u001b[0;34m,\u001b[0m \u001b[0mrequest\u001b[0m\u001b[0;34m=\u001b[0m\u001b[0mrequest\u001b[0m\u001b[0;34m)\u001b[0m\u001b[0;34m\u001b[0m\u001b[0;34m\u001b[0m\u001b[0m\n\u001b[1;32m    515\u001b[0m \u001b[0;34m\u001b[0m\u001b[0m\n\u001b[0;32m--> 516\u001b[0;31m             \u001b[0;32mraise\u001b[0m \u001b[0mConnectionError\u001b[0m\u001b[0;34m(\u001b[0m\u001b[0me\u001b[0m\u001b[0;34m,\u001b[0m \u001b[0mrequest\u001b[0m\u001b[0;34m=\u001b[0m\u001b[0mrequest\u001b[0m\u001b[0;34m)\u001b[0m\u001b[0;34m\u001b[0m\u001b[0;34m\u001b[0m\u001b[0m\n\u001b[0m\u001b[1;32m    517\u001b[0m \u001b[0;34m\u001b[0m\u001b[0m\n\u001b[1;32m    518\u001b[0m         \u001b[0;32mexcept\u001b[0m \u001b[0mClosedPoolError\u001b[0m \u001b[0;32mas\u001b[0m \u001b[0me\u001b[0m\u001b[0;34m:\u001b[0m\u001b[0;34m\u001b[0m\u001b[0;34m\u001b[0m\u001b[0m\n",
      "\u001b[0;31mConnectionError\u001b[0m: HTTPSConnectionPool(host='www.tripadvisor.com', port=443): Max retries exceeded with url: /Restaurants-g187514-Madrid.html (Caused by NewConnectionError('<urllib3.connection.HTTPSConnection object at 0x11c256050>: Failed to establish a new connection: [Errno 60] Operation timed out'))"
     ]
    }
   ],
   "source": [
    "for page_number in count(start = 1):\n",
    "        url = 'https://www.tripadvisor.com/Restaurants-g187514-Madrid.html'\n",
    "        html = requests.get(url).content\n",
    "        soup = BeautifulSoup(html,\"lxml\")\n",
    "        table = soup.find_all('div', {'id' : 'EATERY_SEARCH_RESULTS'})[0]\n",
    "\n",
    "table.find_all(['div', 'span', 'a'], {'class': ['_15_ydu6b', '_1p0FLy4t']})\n"
   ]
  },
  {
   "cell_type": "code",
   "execution_count": null,
   "metadata": {},
   "outputs": [],
   "source": [
    "roo_data['address'] = roo_data['Address']+ ', '+roo_data['Post Code'].astype(str)\n",
    "roo_data.info()\n"
   ]
  },
  {
   "cell_type": "code",
   "execution_count": null,
   "metadata": {},
   "outputs": [],
   "source": [
    "ta_data = pd.read"
   ]
  },
  {
   "cell_type": "code",
   "execution_count": null,
   "metadata": {},
   "outputs": [],
   "source": [
    "page_nr = 1\n",
    "\n",
    "for page_number in count(start = 1):\n",
    "        url = 'https://www.tripadvisor.com/Restaurants-g187514-Madrid.html'\n",
    "        html = requests.get(url).content\n",
    "        soup = BeautifulSoup(html,\"lxml\")\n",
    "        table = soup.find_all(['div', 'span', 'a'], {'class': [ '_15_ydu6b', '_1p0FLy4t']})[0]\n",
    "        \n",
    "        page_nr = page_nr + 1\n",
    "        next_page = soup.find('a', {'class':'nav next rndBtn ui_button primary taLnk'})\n",
    "        if next_page.text != 'Next':\n",
    "            break"
   ]
  },
  {
   "cell_type": "code",
   "execution_count": null,
   "metadata": {},
   "outputs": [],
   "source": [
    "urls = []\n",
    "a_tags = table.find_all(\"a\")\n",
    "for tag in a_tags:\n",
    "    urls.append(tag[\"href\"])\n",
    "\n",
    "urls"
   ]
  },
  {
   "cell_type": "code",
   "execution_count": null,
   "metadata": {},
   "outputs": [],
   "source": [
    "list=[]\n",
    "for url in urls:\n",
    "    table.find_all(['div', 'span', 'a'], {'class': ['_15_ydu6b', '_1p0FLy4t']})\n",
    "    list.append(url)\n",
    "\n",
    "#rows = table.find_all(['div', 'span', 'a'], {'class': ['_15_ydu6b', '_1p0FLy4t']})\n",
    "#rows_parsed = [row.text for row in rows]\n",
    "#rows_parsed"
   ]
  },
  {
   "cell_type": "code",
   "execution_count": null,
   "metadata": {},
   "outputs": [],
   "source": [
    "url"
   ]
  },
  {
   "cell_type": "code",
   "execution_count": null,
   "metadata": {},
   "outputs": [],
   "source": [
    "bad_words = ('$', 'Open', 'Opens', 'Closed')\n",
    "for word in rows_parsed:\n",
    "    if word.startswith(bad_words):\n",
    "        rows_parsed.remove(word)\n",
    "        \n",
    "rows_parsed\n"
   ]
  },
  {
   "cell_type": "code",
   "execution_count": null,
   "metadata": {},
   "outputs": [],
   "source": [
    "row_split = 3\n",
    "\n",
    "rows_refactored = [rows_parsed[x:x+row_split] for x in range(0, len(rows_parsed), row_split)]\n",
    "\n",
    "rows_refactored"
   ]
  },
  {
   "cell_type": "code",
   "execution_count": null,
   "metadata": {},
   "outputs": [],
   "source": [
    "df = pd.DataFrame(rows_refactored, columns=['Restaurant Name', 'Reviews', 'Cuisine Type'])\n",
    "\n",
    "df"
   ]
  },
  {
   "cell_type": "markdown",
   "metadata": {},
   "source": [
    "## JustEat"
   ]
  },
  {
   "cell_type": "code",
   "execution_count": null,
   "metadata": {},
   "outputs": [],
   "source": [
    "url = 'https://www.just-eat.es/area/28013-madrid?lat=40.4205576&long=-3.7054769'\n",
    "html = requests.get(url).content\n",
    "soup = BeautifulSoup(html,\"lxml\")\n",
    "table = soup.find_all('div')\n",
    "table"
   ]
  },
  {
   "cell_type": "markdown",
   "metadata": {},
   "source": [
    "## Beautiful Soup"
   ]
  },
  {
   "cell_type": "code",
   "execution_count": null,
   "metadata": {},
   "outputs": [],
   "source": []
  },
  {
   "cell_type": "code",
   "execution_count": null,
   "metadata": {},
   "outputs": [],
   "source": [
    "from bs4 import BeautifulSoup\n",
    "from fake_useragent import UserAgent\n",
    "\n",
    "ua = UserAgent()\n",
    "# lxml is the parsing module\n",
    "header = {'User-Agent': 'Mozilla/5.0 (Windows NT 6.3; WOW64) AppleWebKit/537.36 (KHTML, like Gecko) Chrome/41.0.2226.0 Safari/537.36'}\n",
    "url = 'https://www.tripadvisor.com/Restaurants-g187514-Madrid.html'\n",
    "html = requests.get(url, headers=header)\n",
    "soup = BeautifulSoup(html.content, 'lxml')\n",
    "table = soup.find('section', {'class': 'c-listing item c-listing-item--withHeader c-card--rounded--large'})\n",
    "\n",
    "print(table)"
   ]
  },
  {
   "cell_type": "code",
   "execution_count": null,
   "metadata": {},
   "outputs": [],
   "source": []
  },
  {
   "cell_type": "code",
   "execution_count": null,
   "metadata": {},
   "outputs": [],
   "source": [
    "pip install pyyaml ua-parser user-agents"
   ]
  },
  {
   "cell_type": "code",
   "execution_count": null,
   "metadata": {},
   "outputs": [],
   "source": [
    "pip install fake-useragent"
   ]
  },
  {
   "cell_type": "code",
   "execution_count": null,
   "metadata": {},
   "outputs": [],
   "source": [
    "import re\n",
    "from bs4 import BeautifulSoup\n",
    "import urllib.request\n",
    "from urllib3 import urlopen\n",
    "\n",
    "rest = []\n",
    "page = 'https://www.just-eat.es/area/28013-madrid?lat=40.4202824&long=-3.7054027'\n",
    "page = urlopen(page)\n",
    "soup = BeautifulSoup(page.read(), 'html.parser')\n",
    "res = soup.findAll('a', {'class': 'extLink'})\n",
    "for i in res:\n",
    "    rest.append({'name': i.attrs['href']})\n",
    "\n",
    "for r in rest:\n",
    "    for tag in res:\n",
    "        if r['name'] == tag.attrs['href']:\n",
    "            try:\n",
    "                r['count'] = int(tag.attrs['title'].split()[0])\n",
    "            except:\n",
    "                pass\n",
    "\n",
    "for r in rest:\n",
    "    for tag in res:\n",
    "        if r['name'] == tag.attrs['href']:\n",
    "            try:\n",
    "                r['rating'] = re.findall('rating-\\d+', str(tag.span))[0]\n",
    "            except:\n",
    "                pass"
   ]
  },
  {
   "cell_type": "code",
   "execution_count": null,
   "metadata": {},
   "outputs": [],
   "source": [
    "url = 'https://www.just-eat.es/area/28013-madrid?lat=40.4202824&long=-3.7054027'\n",
    "html = requests.get(url).content\n",
    "soup = BeautifulSoup(html.read(), 'html.parser')\n",
    "table = soup.find_all('a', {'class': 'extLink'})\n",
    "\n",
    "table"
   ]
  },
  {
   "cell_type": "code",
   "execution_count": null,
   "metadata": {},
   "outputs": [],
   "source": [
    "import requests\n",
    "import ast\n",
    "import logging\n",
    "import argparse\n",
    "from pandas import DataFrame\n",
    "from bs4 import BeautifulSoup\n",
    "from datetime import datetime\n",
    "from multiprocessing.pool import ThreadPool\n",
    "\n",
    "logging.basicConfig(level=logging.INFO)\n",
    "\n",
    "PAGE_OFFSET_INTERVAL = 30\n",
    "BASE_URL = \"https://www.tripadvisor.com\"\n",
    "N_THREADS = 8  # Depends on personal computer threads\n",
    "DATE = datetime.now().strftime(\"%Y-%m-%d\")\n",
    "\n",
    "\n",
    "def get_html_and_parse(url):\n",
    "    req = requests.get(url)\n",
    "    url_html = BeautifulSoup(req.text, \"html.parser\")\n",
    "    return url_html\n",
    "\n",
    "\n",
    "def _get_last_page_offset(url_html):\n",
    "    \"\"\"Obtain last page offset.\n",
    "    Required to stop iterating over pages.\n",
    "    Parameters\n",
    "    ----------\n",
    "    url_html : BeautifulSoup object\n",
    "    Returns\n",
    "    -------\n",
    "    int\n",
    "    \"\"\"\n",
    "    page_numbers = url_html.findAll(\"div\", attrs={\"class\": \"pageNumbers\"})[0]\n",
    "    last_page_offset = page_numbers.findAll(\"a\")[-1].get(\"data-offset\")\n",
    "    return int(last_page_offset)\n",
    "\n",
    "\n",
    "def _restaurant_info(restaurant_data):\n",
    "    restaurant_dict = {\n",
    "        \"name\": restaurant_data.get(\"name\"),\n",
    "        \"priceRange\": restaurant_data.get(\"priceRange\"),\n",
    "        \"rating\": restaurant_data.get(\"aggregateRating\").get(\"ratingValue\"),\n",
    "        \"reviewCount\": restaurant_data.get(\"aggregateRating\").get(\"reviewCount\"),\n",
    "        \"address\": restaurant_data.get(\"address\").get(\"streetAddress\"),\n",
    "        \"locality\": restaurant_data.get(\"address\").get(\"addressLocality\"),\n",
    "        \"postCode\": restaurant_data.get(\"address\").get('postalCode'),\n",
    "        \"restaurantCuisine\": restaurant_data.get(\"_130zAOXO _34GKdBMV\")\n",
    "        \"url\": BASE_URL + restaurant_data.get(\"url\"),\n",
    "    }\n",
    "    return restaurant_dict\n",
    "\n",
    "\n",
    "def city_filter(city):\n",
    "    city_filter = {\n",
    "        \"Madrid\": (\"g187514\", \"Madrid\"),\n",
    "    }\n",
    "    city_information = city_filter.get(city)\n",
    "    if city_information is None:\n",
    "        logging.error(f\"Available cities: {list(city_filter.keys())}\")\n",
    "    else:\n",
    "        return city_information\n",
    "\n",
    "\n",
    "def get_restaurants_info(restaurants_list, url_html, thread_pool):\n",
    "    \"\"\"Find and save restaurants information into a list.\n",
    "    The href that ends with #REVIEWS was chosen to avoid duplicates.\n",
    "    Parameters\n",
    "    ----------\n",
    "    restaurants_list : list\n",
    "        list which will contain all of the restaurants information\n",
    "    url_html : BeautifulSoup object\n",
    "        html of the page scraped\n",
    "    thread_pool : ThreadPool object\n",
    "        object that will parallelize requests in order to speed up the process.\n",
    "    \"\"\"\n",
    "    def get_restaurant_info(restaurant_tag):\n",
    "        restaurant_url = BASE_URL + restaurant_tag.get(\"href\")\n",
    "        restaurant_html = get_html_and_parse(restaurant_url)\n",
    "        restaurant_data = restaurant_html.findAll(\"script\",)[1].contents[0]\n",
    "        restaurant_data = ast.literal_eval(restaurant_data)\n",
    "        restaurant_information = _restaurant_info(restaurant_data)\n",
    "        if restaurant_information:\n",
    "            restaurants_list.append(restaurant_information)\n",
    "        else:\n",
    "            logging.warning(\"Missing restaurant information\")\n",
    "\n",
    "    restaurants_component = url_html.findAll(attrs={\"id\": \"component_2\"})\n",
    "    restaurants_tags = filter(\n",
    "        lambda x: x.get(\"href\").startswith(\"/Restaurant_Review\")\n",
    "        and x.get(\"href\").endswith(\"#REVIEWS\"),\n",
    "        restaurants_component[0].findAll(\"a\"),\n",
    "    )\n",
    "    thread_pool.map(lambda x: get_restaurant_info(x), restaurants_tags)\n",
    "\n",
    "\n",
    "def _set_cli():\n",
    "    parser = argparse.ArgumentParser()\n",
    "    parser.add_argument(\"--city\", type=str, required=True, help=\"Need to specify a city\")\n",
    "    parser.add_argument(\"--max_pages\", type=int)\n",
    "    args, unknown = parser.parse_known_args()\n",
    "    if unknown:\n",
    "        logging.warning(f\"Unknown parameter {unknown}\")\n",
    "    if not args.city:\n",
    "        logging.error(\"Need to provide a city\")\n",
    "    else:\n",
    "        return args\n",
    "\n",
    "\n",
    "def _make_csv(restaurants_lists, city, date):\n",
    "    columns = list(restaurants_lists[0].keys())\n",
    "    df = DataFrame(restaurants_lists, columns=columns)\n",
    "    csv_name = f\"Restaurants_{city}_{date}.csv\"\n",
    "    logging.info(f\"Saving CSV as {csv_name}\")\n",
    "    df.to_csv(csv_name, index=False)\n",
    "\n",
    "\n",
    "if __name__ == \"__main__\":\n",
    "    args = _set_cli()\n",
    "    restaurants_data = []\n",
    "    city_code, city_name = city_filter(args.city)\n",
    "    logging.info(f\"Scraping Tripadvisor restaurants data from {args.city}\")\n",
    "\n",
    "    page_offset = 0\n",
    "    full_url = BASE_URL + f\"/Restaurants-{city_code}-oa{page_offset}-{city_name}\"\n",
    "    first_page = get_html_and_parse(full_url)\n",
    "    if not args.max_pages:\n",
    "        last_page_offset = _get_last_page_offset(first_page)\n",
    "    else:\n",
    "        last_page_offset = (args.max_pages - 1) * PAGE_OFFSET_INTERVAL\n",
    "    last_page = (last_page_offset / PAGE_OFFSET_INTERVAL) + 1\n",
    "\n",
    "    logging.info(f\"Scraping page 1 of {int(last_page)}\")\n",
    "    thread_pool = ThreadPool(N_THREADS)\n",
    "    first_page_info = get_restaurants_info(restaurants_data, first_page, thread_pool)\n",
    "    while page_offset < last_page_offset:\n",
    "        page_offset += PAGE_OFFSET_INTERVAL\n",
    "        page_number = (page_offset / PAGE_OFFSET_INTERVAL) + 1\n",
    "        page_html = get_html_and_parse(full_url)\n",
    "        logging.info(f\"Scraping page {int(page_number)} of {int(last_page)}\")\n",
    "        restaurants_information = get_restaurants_info(\n",
    "            restaurants_data, page_html, thread_pool\n",
    "        )\n",
    "    _make_csv(restaurants_data, args.city, DATE)"
   ]
  },
  {
   "cell_type": "code",
   "execution_count": null,
   "metadata": {},
   "outputs": [],
   "source": [
    "import requests\n",
    "import ast\n",
    "import logging\n",
    "import argparse\n",
    "from pandas import DataFrame\n",
    "from bs4 import BeautifulSoup\n",
    "from datetime import datetime\n",
    "from multiprocessing.pool import ThreadPool"
   ]
  },
  {
   "cell_type": "code",
   "execution_count": null,
   "metadata": {},
   "outputs": [],
   "source": [
    "logging.basicConfig(level=logging.INFO)\n",
    "\n",
    "PAGE_OFFSET_INTERVAL = 30\n",
    "BASE_URL = \"https://www.tripadvisor.com/Restaurants-g187514-Madrid.html\"\n",
    "N_THREADS = 8  # Depends on personal computer threads\n",
    "DATE = datetime.now().strftime(\"%Y-%m-%d\")"
   ]
  },
  {
   "cell_type": "code",
   "execution_count": null,
   "metadata": {},
   "outputs": [],
   "source": [
    "def get_html_and_parse(url):\n",
    "    req = requests.get(url)\n",
    "    url_html = BeautifulSoup(req.text, \"html.parser\")\n",
    "    return url_html"
   ]
  },
  {
   "cell_type": "code",
   "execution_count": null,
   "metadata": {},
   "outputs": [],
   "source": [
    "def _get_last_page_offset(url_html):\n",
    "    page_numbers = url_html.findAll(\"div\", attrs={\"class\": \"pageNumbers\"})[0]\n",
    "    last_page_offset = page_numbers.findAll(\"a\")[-1].get(\"data-offset\")\n",
    "    return int(last_page_offset)"
   ]
  },
  {
   "cell_type": "code",
   "execution_count": null,
   "metadata": {},
   "outputs": [],
   "source": [
    "def _restaurant_info(restaurant_data):\n",
    "    restaurant_dict = {\n",
    "        \"name\": restaurant_data.get(\"name\"),\n",
    "        \"priceRange\": restaurant_data.get(\"priceRange\"),\n",
    "        \"rating\": restaurant_data.get(\"aggregateRating\").get(\"ratingValue\"),\n",
    "        \"reviewCount\": restaurant_data.get(\"aggregateRating\").get(\"reviewCount\"),\n",
    "        \"address\": restaurant_data.get(\"address\").get(\"streetAddress\"),\n",
    "        \"locality\": restaurant_data.get(\"address\").get(\"addressLocality\"),\n",
    "        \"url\": BASE_URL + restaurant_data.get(\"url\"),\n",
    "    }\n",
    "    return restaurant_dict"
   ]
  },
  {
   "cell_type": "code",
   "execution_count": null,
   "metadata": {},
   "outputs": [],
   "source": [
    "def get_restaurants_info(restaurants_list, url_html, thread_pool):\n",
    "    \"\"\"Find and save restaurants information into a list.\n",
    "    The href that ends with #REVIEWS was chosen to avoid duplicates.\n",
    "    Parameters\n",
    "    ----------\n",
    "    restaurants_list : list\n",
    "        list which will contain all of the restaurants information\n",
    "    url_html : BeautifulSoup object\n",
    "        html of the page scraped\n",
    "    thread_pool : ThreadPool object\n",
    "        object that will parallelize requests in order to speed up the process.\n",
    "    \"\"\"\n",
    "    def get_restaurant_info(restaurant_tag):\n",
    "        restaurant_url = BASE_URL + restaurant_tag.get(\"href\")\n",
    "        restaurant_html = get_html_and_parse(restaurant_url)\n",
    "        restaurant_data = restaurant_html.findAll(\"script\")[1].contents[0]\n",
    "        restaurant_data = ast.literal_eval(restaurant_data)\n",
    "        restaurant_information = _restaurant_info(restaurant_data)\n",
    "        if restaurant_information:\n",
    "            restaurants_list.append(restaurant_information)\n",
    "        else:\n",
    "            logging.warning(\"Missing restaurant information\")\n",
    "\n",
    "    restaurants_component = url_html.findAll(attrs={\"id\": \"component_2\"})\n",
    "    restaurants_tags = filter(\n",
    "        lambda x: x.get(\"href\").startswith(\"/Restaurant_Review\")\n",
    "        and x.get(\"href\").endswith(\"#REVIEWS\"),\n",
    "        restaurants_component[0].findAll(\"a\"),\n",
    "    )\n",
    "    thread_pool.map(lambda x: get_restaurant_info(x), restaurants_tags)"
   ]
  },
  {
   "cell_type": "code",
   "execution_count": null,
   "metadata": {},
   "outputs": [],
   "source": [
    "def _make_csv(restaurants_lists, date):\n",
    "    columns = list(restaurants_lists[0].keys())\n",
    "    df = DataFrame(restaurants_lists, columns=columns)\n",
    "    csv_name = f\"Restaurants_{date}.csv\"\n",
    "    logging.info(f\"Saving CSV as {csv_name}\")\n",
    "    df.to_csv(csv_name, index=False)"
   ]
  },
  {
   "cell_type": "code",
   "execution_count": null,
   "metadata": {},
   "outputs": [],
   "source": [
    "if __name__ == \"__main__\":\n",
    "    #args = _set_cli()\n",
    "    restaurants_data = []\n",
    "    #city_code, city_name = city_filter(args.city)\n",
    "    city_code = \"g187514\"\n",
    "    city_name = \"Madrid\"\n",
    "    #logging.info(f\"Scraping Tripadvisor restaurants data from {args.city}\")\n",
    "\n",
    "    \n",
    "    page_offset = 0\n",
    "    full_url = BASE_URL + f\"/Restaurants-{city_code}-oa{page_offset}-{city_name}\"\n",
    "    first_page = get_html_and_parse(full_url)\n",
    "    last_page_offset = _get_last_page_offset(first_page)\n",
    "    last_page = (last_page_offset / PAGE_OFFSET_INTERVAL) + 1\n",
    "\n",
    "    logging.info(f\"Scraping page 1 of {int(last_page)}\")\n",
    "    thread_pool = ThreadPool(N_THREADS)\n",
    "    first_page_info = get_restaurants_info(restaurants_data, first_page, thread_pool)\n",
    "    while page_offset < last_page_offset:\n",
    "        page_offset += PAGE_OFFSET_INTERVAL\n",
    "        page_number = (page_offset / PAGE_OFFSET_INTERVAL) + 1\n",
    "        page_html = get_html_and_parse(full_url)\n",
    "        logging.info(f\"Scraping page {int(page_number)} of {int(last_page)}\")\n",
    "        restaurants_information = get_restaurants_info(\n",
    "            restaurants_data, page_html, thread_pool\n",
    "        )\n",
    "    _make_csv(restaurants_data)"
   ]
  },
  {
   "cell_type": "code",
   "execution_count": null,
   "metadata": {},
   "outputs": [],
   "source": [
    "pip install geopandas"
   ]
  },
  {
   "cell_type": "code",
   "execution_count": null,
   "metadata": {},
   "outputs": [],
   "source": [
    "pip install geopy"
   ]
  },
  {
   "cell_type": "code",
   "execution_count": null,
   "metadata": {},
   "outputs": [],
   "source": []
  }
 ],
 "metadata": {
  "kernelspec": {
   "display_name": "Python [conda env:ironhack_env]",
   "language": "python",
   "name": "conda-env-ironhack_env-py"
  },
  "language_info": {
   "codemirror_mode": {
    "name": "ipython",
    "version": 3
   },
   "file_extension": ".py",
   "mimetype": "text/x-python",
   "name": "python",
   "nbconvert_exporter": "python",
   "pygments_lexer": "ipython3",
   "version": "3.7.7"
  }
 },
 "nbformat": 4,
 "nbformat_minor": 4
}
